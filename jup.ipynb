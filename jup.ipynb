{
 "cells": [
  {
   "cell_type": "code",
   "execution_count": 9,
   "metadata": {},
   "outputs": [],
   "source": [
    "import pandas as pd\n",
    "import numpy as np\n",
    "import matplotlib as plt"
   ]
  },
  {
   "cell_type": "code",
   "execution_count": 1,
   "metadata": {},
   "outputs": [
    {
     "ename": "NameError",
     "evalue": "name 'pd' is not defined",
     "output_type": "error",
     "traceback": [
      "\u001b[1;31m---------------------------------------------------------------------------\u001b[0m",
      "\u001b[1;31mNameError\u001b[0m                                 Traceback (most recent call last)",
      "\u001b[1;32mc:\\Users\\Emmanuel Kim\\Desktop\\IA\\RegresionLineal\\jup.ipynb Celda 2\u001b[0m in \u001b[0;36m<cell line: 1>\u001b[1;34m()\u001b[0m\n\u001b[1;32m----> <a href='vscode-notebook-cell:/c%3A/Users/Emmanuel%20Kim/Desktop/IA/RegresionLineal/jup.ipynb#W1sZmlsZQ%3D%3D?line=0'>1</a>\u001b[0m data \u001b[39m=\u001b[39m pd\u001b[39m.\u001b[39mread_csv(\u001b[39m'\u001b[39m\u001b[39mdataset_RegresionLineal.csv\u001b[39m\u001b[39m'\u001b[39m)\n",
      "\u001b[1;31mNameError\u001b[0m: name 'pd' is not defined"
     ]
    }
   ],
   "source": [
    "\n",
    "data = pd.read_csv('dataset_RegresionLineal.csv')"
   ]
  },
  {
   "cell_type": "code",
   "execution_count": 41,
   "metadata": {},
   "outputs": [
    {
     "name": "stdout",
     "output_type": "stream",
     "text": [
      "          x        y\n",
      "0    6.1101  17.5920\n",
      "1    5.5277   9.1302\n",
      "2    8.5186  13.6620\n",
      "3    7.1932  11.8540\n",
      "4    5.8598   6.8233\n",
      "..      ...      ...\n",
      "92   5.8707   7.2029\n",
      "93   5.3054   1.9869\n",
      "94   8.2934  14.4540\n",
      "95  13.3940   9.0551\n",
      "96   5.4369  61.7050\n",
      "\n",
      "[97 rows x 2 columns]\n"
     ]
    }
   ],
   "source": [
    "print(data)"
   ]
  },
  {
   "cell_type": "code",
   "execution_count": 32,
   "metadata": {},
   "outputs": [
    {
     "name": "stdout",
     "output_type": "stream",
     "text": [
      "-5\n",
      "strings\n",
      "hola\n",
      "adadasS\n"
     ]
    }
   ],
   "source": [
    "from re import A\n",
    "\n",
    "\n",
    "x = 6\n",
    "# Comentario\n",
    "\n",
    "y= 16\n",
    "\n",
    "y = 1\n",
    "\n",
    "print(y-x)\n",
    "\n",
    "int #8 bits\n",
    "\n",
    "#arrays \n",
    "\n",
    "\n",
    "\"STRINGS\"\n",
    "\n",
    "print(\"strings\")\n",
    "\n",
    "arrays = [5, \"STRONG\", 78]\n",
    "\n",
    "type(arrays)\n",
    "\n",
    "\n",
    "def funcion() :\n",
    "    print(\"hola\")\n",
    "    print(\"adadasS\")\n",
    "    \n",
    "\n",
    "    \n",
    "funcion()\n",
    "\n",
    "\n",
    "\n",
    "\n",
    "\n",
    "\n",
    " "
   ]
  }
 ],
 "metadata": {
  "kernelspec": {
   "display_name": "Python 3.10.6 64-bit",
   "language": "python",
   "name": "python3"
  },
  "language_info": {
   "codemirror_mode": {
    "name": "ipython",
    "version": 3
   },
   "file_extension": ".py",
   "mimetype": "text/x-python",
   "name": "python",
   "nbconvert_exporter": "python",
   "pygments_lexer": "ipython3",
   "version": "3.10.6"
  },
  "orig_nbformat": 4,
  "vscode": {
   "interpreter": {
    "hash": "14e6090c3a920dc33f0a797383029adc6b9c0994cec83b4af8103331ed5b7537"
   }
  }
 },
 "nbformat": 4,
 "nbformat_minor": 2
}
